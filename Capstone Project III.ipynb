{
 "cells": [
  {
   "cell_type": "markdown",
   "metadata": {},
   "source": [
    "# Dataset and libraries"
   ]
  },
  {
   "cell_type": "code",
   "execution_count": 1,
   "metadata": {},
   "outputs": [
    {
     "name": "stderr",
     "output_type": "stream",
     "text": [
      "Using TensorFlow backend.\n"
     ]
    }
   ],
   "source": [
    "# Importing the libraries and the dataset\n",
    "import numpy as np\n",
    "from keras.datasets import imdb\n",
    "import matplotlib.pyplot as plt\n",
    "# load the dataset\n",
    "(X_train, y_train), (X_test, y_test) = imdb.load_data()\n",
    "X = np.concatenate((X_train, X_test), axis=0)\n",
    "y = np.concatenate((y_train, y_test), axis=0)"
   ]
  },
  {
   "cell_type": "code",
   "execution_count": 2,
   "metadata": {},
   "outputs": [
    {
     "name": "stdout",
     "output_type": "stream",
     "text": [
      "['the', 'boiled', 'full', 'involving', 'to', 'impressive', 'boring', 'this', 'as', 'murdering', 'naschy', 'br', 'villain', 'council', 'suggestion', 'need', 'has', 'of', 'costumes', 'b', 'message', 'to', 'may', 'of', 'props', 'this', 'echoed', 'concentrates', 'concept', 'issue', 'skeptical', 'to', \"god's\", 'he', 'is', 'dedications', 'unfolds', 'movie', 'women', 'like', \"isn't\", 'surely', \"i'm\", 'rocketed', 'to', 'toward', 'in', \"here's\", 'for', 'from', 'did', 'having', 'because', 'very', 'quality', 'it', 'is', \"captain's\", 'starship', 'really', 'book', 'is', 'both', 'too', 'worked', 'carl', 'of', 'mayfair', 'br', 'of', 'reviewer', 'closer', 'figure', 'really', 'there', 'will', 'originals', 'things', 'is', 'far', 'this', 'make', 'mistakes', \"kevin's\", 'was', \"couldn't\", 'of', 'few', 'br', 'of', 'you', 'to', \"don't\", 'female', 'than', 'place', 'she', 'to', 'was', 'between', 'that', 'nothing', 'dose', 'movies', 'get', 'are', '498', 'br', 'yes', 'female', 'just', 'its', 'because', 'many', 'br', 'of', 'overly', 'to', 'descent', 'people', 'time', 'very', 'bland']\n",
      "1\n",
      "[1, 6740, 365, 1234, 5, 1156, 354, 11, 14, 5327, 6638, 7, 1016, 10626, 5940, 356, 44, 4, 1349, 500, 746, 5, 200, 4, 4132, 11, 16393, 9363, 1117, 1831, 7485, 5, 4831, 26, 6, 71690, 4183, 17, 369, 37, 215, 1345, 143, 32677, 5, 1838, 8, 1974, 15, 36, 119, 257, 85, 52, 486, 9, 6, 26441, 8564, 63, 271, 6, 196, 96, 949, 4121, 4, 74170, 7, 4, 2212, 2436, 819, 63, 47, 77, 7175, 180, 6, 227, 11, 94, 2494, 33740, 13, 423, 4, 168, 7, 4, 22, 5, 89, 665, 71, 270, 56, 5, 13, 197, 12, 161, 5390, 99, 76, 23, 77842, 7, 419, 665, 40, 91, 85, 108, 7, 4, 2084, 5, 4773, 81, 55, 52, 1901]\n"
     ]
    }
   ],
   "source": [
    "# Getting the words actually written in the review\n",
    "word2id = imdb.get_word_index()\n",
    "id2word = {i: word for word, i in word2id.items()}\n",
    "print([id2word.get(i, ' ') for i in X_train[6]])\n",
    "print(y_train[6])\n",
    "print(X_train[6])"
   ]
  },
  {
   "cell_type": "code",
   "execution_count": 3,
   "metadata": {},
   "outputs": [
    {
     "name": "stdout",
     "output_type": "stream",
     "text": [
      "Training data: \n",
      "(50000,)\n",
      "(50000,)\n"
     ]
    }
   ],
   "source": [
    "# summarize the dataset size\n",
    "\n",
    "'''\n",
    "From this snippet we can see that there are 50000 movie reviews in total. 25000 in the training and testing sets, respectively.\n",
    "'''\n",
    "\n",
    "print(\"Training data: \")\n",
    "print(X.shape)\n",
    "print(y.shape)"
   ]
  },
  {
   "cell_type": "code",
   "execution_count": 5,
   "metadata": {},
   "outputs": [
    {
     "name": "stdout",
     "output_type": "stream",
     "text": [
      "Classes: \n",
      "[0 1]\n"
     ]
    }
   ],
   "source": [
    "# Summarize number of classes\n",
    "\n",
    "'''\n",
    "There are only two unique sentiments: positive (1) and negative (0).\n",
    "'''\n",
    "\n",
    "print(\"Classes: \")\n",
    "print(np.unique(y))"
   ]
  },
  {
   "cell_type": "markdown",
   "metadata": {},
   "source": [
    "# Preprocessing the Data"
   ]
  },
  {
   "cell_type": "code",
   "execution_count": 7,
   "metadata": {},
   "outputs": [
    {
     "name": "stdout",
     "output_type": "stream",
     "text": [
      "Number of unique words: \n",
      "88585\n"
     ]
    }
   ],
   "source": [
    "# Summarize number of unique words\n",
    "\n",
    "'''\n",
    "There are almost 90 000 unique words in the combined dataset, i.e. all 50 000 reviews.\n",
    "\n",
    "This is interesting. We have about 1.8 unique words per review, which is a small number. This just goes to show how much we\n",
    "reuse words in a single sentence/review. \n",
    "\n",
    "This could also be an indication that most people's vocabularies are similar. Across 50000 reviews we only use roughly 90000 different words.\n",
    "'''\n",
    "\n",
    "print(\"Number of unique words: \")\n",
    "print(len(np.unique(np.hstack(X))))"
   ]
  },
  {
   "cell_type": "code",
   "execution_count": 9,
   "metadata": {},
   "outputs": [
    {
     "name": "stdout",
     "output_type": "stream",
     "text": [
      "Review length: \n",
      "Mean 234.76 words (172.911495)\n"
     ]
    },
    {
     "data": {
      "image/png": "[encoded data removed]",
      "text/plain": [
       "<Figure size 720x576 with 1 Axes>"
      ]
     },
     "metadata": {
      "needs_background": "light"
     },
     "output_type": "display_data"
    },
    {
     "name": "stdout",
     "output_type": "stream",
     "text": [
      "The minimum review length is 7.\n",
      "The maximum review length is 2494.\n"
     ]
    }
   ],
   "source": [
    "# Summarize review length\n",
    "\n",
    "'''\n",
    "Below is a summary of the review length. We can see that an average review is about 230 words long. The maximum review \n",
    "length is just below 2500 words, with the shortest review being only 7 words.\n",
    "'''\n",
    "\n",
    "print(\"Review length: \")\n",
    "result = [len(x) for x in X]\n",
    "print(\"Mean %.2f words (%f)\" % (np.mean(result), np.std(result)))\n",
    "\n",
    "# plot review length\n",
    "ax, fig = plt.subplots(figsize = (10, 8))\n",
    "plt.boxplot(result)\n",
    "plt.title(\"Review lenghts\")\n",
    "plt.ylabel(\"Number of words\")\n",
    "plt.show()\n",
    "\n",
    "# Min and max review lengths\n",
    "print(f\"The minimum review length is {min(result)}.\")\n",
    "print(f\"The maximum review length is {max(result)}.\")"
   ]
  },
  {
   "cell_type": "markdown",
   "metadata": {},
   "source": [
    "# Build the Model"
   ]
  },
  {
   "cell_type": "markdown",
   "metadata": {},
   "source": [
    "For this RNN we will be making use of a word embedding representation for the IMDB dataset. This requires the use of an embedding layer. Keras offers this embedding layer."
   ]
  },
  {
   "cell_type": "code",
   "execution_count": 10,
   "metadata": {},
   "outputs": [],
   "source": [
    "# Importing the required modeling libraries for the Recurrent Neural Network (RNN)\n",
    "import numpy\n",
    "from keras.datasets import imdb\n",
    "from keras.models import Sequential\n",
    "from keras.layers import Dense\n",
    "from keras.layers import Flatten\n",
    "from keras.layers.embeddings import Embedding\n",
    "from keras.preprocessing import sequence"
   ]
  },
  {
   "cell_type": "code",
   "execution_count": 11,
   "metadata": {},
   "outputs": [],
   "source": [
    "# load the dataset but only keep the top n words, zero the rest. We set the 'vocabulary size' to 5000 words\n",
    "top_words = 5000\n",
    "(X_train, y_train), (X_test, y_test) = imdb.load_data(num_words=top_words)\n",
    "\n",
    "# We cap the number of words per review\n",
    "'''\n",
    "pad_sequences is used to ensure that all sequences in a list have the same length. \n",
    "By default this is done by padding 0 in the beginning of each sequence until each sequence has the same length as the \n",
    "longest sequence. We will bound reviews at 500 words, truncating longer reviews and zero-padding shorter reviews.\n",
    "\n",
    "We will also use a 50/50 split of the dataset into training and test.\n",
    "'''\n",
    "max_words = 500\n",
    "X_train = sequence.pad_sequences(X_train, maxlen=max_words)\n",
    "X_test = sequence.pad_sequences(X_test, maxlen=max_words)"
   ]
  },
  {
   "cell_type": "code",
   "execution_count": 12,
   "metadata": {},
   "outputs": [
    {
     "name": "stdout",
     "output_type": "stream",
     "text": [
      "WARNING:tensorflow:From /anaconda3/lib/python3.7/site-packages/tensorflow/python/framework/op_def_library.py:263: colocate_with (from tensorflow.python.framework.ops) is deprecated and will be removed in a future version.\n",
      "Instructions for updating:\n",
      "Colocations handled automatically by placer.\n",
      "_________________________________________________________________\n",
      "Layer (type)                 Output Shape              Param #   \n",
      "=================================================================\n",
      "embedding_1 (Embedding)      (None, 500, 32)           160000    \n",
      "_________________________________________________________________\n",
      "flatten_1 (Flatten)          (None, 16000)             0         \n",
      "_________________________________________________________________\n",
      "dense_1 (Dense)              (None, 250)               4000250   \n",
      "_________________________________________________________________\n",
      "dense_2 (Dense)              (None, 1)                 251       \n",
      "=================================================================\n",
      "Total params: 4,160,501\n",
      "Trainable params: 4,160,501\n",
      "Non-trainable params: 0\n",
      "_________________________________________________________________\n",
      "None\n"
     ]
    }
   ],
   "source": [
    "'''\n",
    "We will use an Embedding layer as the input layer, setting the vocabulary to 5000. \n",
    "The word vector size is set to 32 dimensions and the input_length to 500. \n",
    "The output of this first layer will be a 32×500 sized matrix.\n",
    "'''\n",
    "# Creating the model\n",
    "model = Sequential()\n",
    "model.add(Embedding(top_words, 32, input_length=max_words)) # Embedding layer\n",
    "model.add(Flatten()) # Flatten the Embedded layers output to one dimension\n",
    "model.add(Dense(250, activation='relu')) # Dense hidden layer with a relu activation function\n",
    "model.add(Dense(1, activation='sigmoid')) # Output layer (one neuron) with a sigmoid activation to output values of 0 and 1 as predictions\n",
    "model.compile(loss='binary_crossentropy', optimizer='adam', metrics=['accuracy']) # Logarithmic loss in used\n",
    "print(model.summary())"
   ]
  },
  {
   "cell_type": "markdown",
   "metadata": {},
   "source": [
    "# Train the Model"
   ]
  },
  {
   "cell_type": "code",
   "execution_count": 37,
   "metadata": {},
   "outputs": [
    {
     "name": "stdout",
     "output_type": "stream",
     "text": [
      "WARNING:tensorflow:From /anaconda3/lib/python3.7/site-packages/tensorflow/python/ops/math_ops.py:3066: to_int32 (from tensorflow.python.ops.math_ops) is deprecated and will be removed in a future version.\n",
      "Instructions for updating:\n",
      "Use tf.cast instead.\n",
      "Train on 25000 samples, validate on 25000 samples\n",
      "Epoch 1/2\n",
      " - 16s - loss: 0.5093 - acc: 0.7117 - val_loss: 0.3148 - val_acc: 0.8632\n",
      "Epoch 2/2\n",
      " - 15s - loss: 0.1899 - acc: 0.9274 - val_loss: 0.3011 - val_acc: 0.8723\n"
     ]
    },
    {
     "data": {
      "text/plain": [
       "\"\\nWe only use 2 epochs. The reason for this is to prevent overfitting - such RNN's have been known to overfit quickly.\\n\""
      ]
     },
     "execution_count": 37,
     "metadata": {},
     "output_type": "execute_result"
    }
   ],
   "source": [
    "# Training the model\n",
    "'''\n",
    "We only use 2 epochs. The reason for this is to prevent overfitting - such RNN's have been known to overfit quickly.\n",
    "There is a lot of data so we will use a batch size of 128.\n",
    "'''\n",
    "\n",
    "model.fit(X_train, y_train, validation_data=(X_test, y_test), epochs=2, batch_size=128, verbose=2)"
   ]
  },
  {
   "cell_type": "markdown",
   "metadata": {},
   "source": [
    "# Test the Model"
   ]
  },
  {
   "cell_type": "code",
   "execution_count": 38,
   "metadata": {},
   "outputs": [
    {
     "name": "stdout",
     "output_type": "stream",
     "text": [
      "Accuracy: 87.23%\n"
     ]
    }
   ],
   "source": [
    "# Final evaluation of the model on the test set. This is where we predict the movie sentiments on an unseen set of reviews.\n",
    "'''\n",
    "The evaluation of the model on the test set is also shown in the above cell. The model.fit instruction performs the validation\n",
    "on the test set as well.\n",
    "'''\n",
    "\n",
    "scores = model.evaluate(X_test, y_test, verbose=0)\n",
    "print(\"Accuracy: %.2f%%\" % (scores[1]*100))"
   ]
  },
  {
   "cell_type": "markdown",
   "metadata": {},
   "source": [
    "# Summary of initial results"
   ]
  },
  {
   "cell_type": "markdown",
   "metadata": {},
   "source": [
    "We confirm in the above cell that the accuracy on the test set of 25000 reviews is just over 87%. This is very good! This means that we correctly predicted roughly 22000 of the 25000 (unseen) movie review sentiments."
   ]
  },
  {
   "cell_type": "markdown",
   "metadata": {},
   "source": [
    "# Model refinement\n",
    "\n",
    "We were able to achieve a high model accuracy with little effort. Could we improve this accuracy even further? In the section below we try to do so. Two suggested ways of doing so are:\n",
    "\n",
    " - Using a larger embedding\n",
    " - Adding more hidden layers"
   ]
  },
  {
   "cell_type": "code",
   "execution_count": 43,
   "metadata": {},
   "outputs": [
    {
     "name": "stdout",
     "output_type": "stream",
     "text": [
      "_________________________________________________________________\n",
      "Layer (type)                 Output Shape              Param #   \n",
      "=================================================================\n",
      "embedding_5 (Embedding)      (None, 500, 64)           320000    \n",
      "_________________________________________________________________\n",
      "flatten_5 (Flatten)          (None, 32000)             0         \n",
      "_________________________________________________________________\n",
      "dense_9 (Dense)              (None, 250)               8000250   \n",
      "_________________________________________________________________\n",
      "dense_10 (Dense)             (None, 1)                 251       \n",
      "=================================================================\n",
      "Total params: 8,320,501\n",
      "Trainable params: 8,320,501\n",
      "Non-trainable params: 0\n",
      "_________________________________________________________________\n",
      "Embedded layer size: 64 None\n",
      "Train on 25000 samples, validate on 25000 samples\n",
      "Epoch 1/2\n",
      " - 31s - loss: 0.5225 - acc: 0.7053 - val_loss: 0.3041 - val_acc: 0.8703\n",
      "Epoch 2/2\n",
      " - 31s - loss: 0.1895 - acc: 0.9278 - val_loss: 0.3145 - val_acc: 0.8714\n",
      " \n",
      "_________________________________________________________________\n",
      "Layer (type)                 Output Shape              Param #   \n",
      "=================================================================\n",
      "embedding_6 (Embedding)      (None, 500, 128)          640000    \n",
      "_________________________________________________________________\n",
      "flatten_6 (Flatten)          (None, 64000)             0         \n",
      "_________________________________________________________________\n",
      "dense_11 (Dense)             (None, 250)               16000250  \n",
      "_________________________________________________________________\n",
      "dense_12 (Dense)             (None, 1)                 251       \n",
      "=================================================================\n",
      "Total params: 16,640,501\n",
      "Trainable params: 16,640,501\n",
      "Non-trainable params: 0\n",
      "_________________________________________________________________\n",
      "Embedded layer size: 128 None\n",
      "Train on 25000 samples, validate on 25000 samples\n",
      "Epoch 1/2\n",
      " - 65s - loss: 0.5472 - acc: 0.6882 - val_loss: 0.3221 - val_acc: 0.8629\n",
      "Epoch 2/2\n",
      " - 65s - loss: 0.1897 - acc: 0.9276 - val_loss: 0.3115 - val_acc: 0.8735\n",
      " \n",
      "_________________________________________________________________\n",
      "Layer (type)                 Output Shape              Param #   \n",
      "=================================================================\n",
      "embedding_7 (Embedding)      (None, 500, 256)          1280000   \n",
      "_________________________________________________________________\n",
      "flatten_7 (Flatten)          (None, 128000)            0         \n",
      "_________________________________________________________________\n",
      "dense_13 (Dense)             (None, 250)               32000250  \n",
      "_________________________________________________________________\n",
      "dense_14 (Dense)             (None, 1)                 251       \n",
      "=================================================================\n",
      "Total params: 33,280,501\n",
      "Trainable params: 33,280,501\n",
      "Non-trainable params: 0\n",
      "_________________________________________________________________\n",
      "Embedded layer size: 256 None\n",
      "Train on 25000 samples, validate on 25000 samples\n",
      "Epoch 1/2\n",
      " - 135s - loss: 0.6361 - acc: 0.6306 - val_loss: 0.3388 - val_acc: 0.8512\n",
      "Epoch 2/2\n",
      " - 130s - loss: 0.2198 - acc: 0.9128 - val_loss: 0.3043 - val_acc: 0.8709\n",
      " \n"
     ]
    }
   ],
   "source": [
    "# Larger embedding\n",
    "\n",
    "'''\n",
    "We keep using 2 epochs and a batch size of 128. We only increase the size of the embedded layer's output.\n",
    "'''\n",
    "\n",
    "embedded_size = [64, 128, 256]\n",
    "\n",
    "for size in embedded_size:\n",
    "    # Creating the model\n",
    "    model_2 = Sequential()\n",
    "    model_2.add(Embedding(top_words, size, input_length=max_words)) # Embedding layer\n",
    "    model_2.add(Flatten()) # Flatten the Embedded layers output to one dimension\n",
    "    model_2.add(Dense(250, activation='relu')) # Dense hidden layer with a relu activation function\n",
    "    model_2.add(Dense(1, activation='sigmoid')) # Output layer (one neuron) with a sigmoid activation to output values of 0 and 1 as predictions\n",
    "    model_2.compile(loss='binary_crossentropy', optimizer='adam', metrics=['accuracy']) # Logarithmic loss in used\n",
    "    print(f\"Embedded layer size: {size}\")\n",
    "    print(model_2.summary())\n",
    "\n",
    "    # Training the model\n",
    "    model_2.fit(X_train, y_train, validation_data=(X_test, y_test), epochs=2, batch_size=128, verbose=2)\n",
    "    print(\" \")"
   ]
  },
  {
   "cell_type": "markdown",
   "metadata": {},
   "source": [
    "From the above output we observe that as the embedded layer's size increases from 64 to 128 the model accuracy (on the second epoch) increases from 87.14% to 87.35%. The model performs best when this value is set to 128. The model does second best when this value is set to 32. There is therefore no clear linear relationship between the size of the embedding layer output and the model accuracy. For this exercise we conclude that using the embedding layer output dimension of 128 is most suitable. This may not always be the case - different problems will warrant different values for this parameter.  "
   ]
  },
  {
   "cell_type": "code",
   "execution_count": 56,
   "metadata": {},
   "outputs": [
    {
     "name": "stdout",
     "output_type": "stream",
     "text": [
      "Number of dense layers = 1\n",
      "_________________________________________________________________\n",
      "Layer (type)                 Output Shape              Param #   \n",
      "=================================================================\n",
      "embedding_15 (Embedding)     (None, 500, 256)          1280000   \n",
      "_________________________________________________________________\n",
      "flatten_15 (Flatten)         (None, 128000)            0         \n",
      "_________________________________________________________________\n",
      "dense_48 (Dense)             (None, 250)               32000250  \n",
      "_________________________________________________________________\n",
      "dense_49 (Dense)             (None, 1)                 251       \n",
      "=================================================================\n",
      "Total params: 33,280,501\n",
      "Trainable params: 33,280,501\n",
      "Non-trainable params: 0\n",
      "_________________________________________________________________\n",
      "None\n",
      " \n",
      "Train on 25000 samples, validate on 25000 samples\n",
      "Epoch 1/2\n",
      " - 133s - loss: 0.5124 - acc: 0.7479 - val_loss: 0.2902 - val_acc: 0.8778\n",
      "Epoch 2/2\n",
      " - 138s - loss: 0.1351 - acc: 0.9513 - val_loss: 0.3321 - val_acc: 0.8659\n",
      "Number of dense layers = 2\n",
      "_________________________________________________________________\n",
      "Layer (type)                 Output Shape              Param #   \n",
      "=================================================================\n",
      "embedding_16 (Embedding)     (None, 500, 256)          1280000   \n",
      "_________________________________________________________________\n",
      "flatten_16 (Flatten)         (None, 128000)            0         \n",
      "_________________________________________________________________\n",
      "dense_50 (Dense)             (None, 250)               32000250  \n",
      "_________________________________________________________________\n",
      "dense_51 (Dense)             (None, 250)               62750     \n",
      "_________________________________________________________________\n",
      "dense_52 (Dense)             (None, 1)                 251       \n",
      "=================================================================\n",
      "Total params: 33,343,251\n",
      "Trainable params: 33,343,251\n",
      "Non-trainable params: 0\n",
      "_________________________________________________________________\n",
      "None\n",
      " \n",
      "Train on 25000 samples, validate on 25000 samples\n",
      "Epoch 1/2\n",
      " - 136s - loss: 0.4736 - acc: 0.7530 - val_loss: 0.2895 - val_acc: 0.8772\n",
      "Epoch 2/2\n",
      " - 131s - loss: 0.1332 - acc: 0.9510 - val_loss: 0.3690 - val_acc: 0.8612\n",
      "Number of dense layers = 3\n",
      "_________________________________________________________________\n",
      "Layer (type)                 Output Shape              Param #   \n",
      "=================================================================\n",
      "embedding_17 (Embedding)     (None, 500, 256)          1280000   \n",
      "_________________________________________________________________\n",
      "flatten_17 (Flatten)         (None, 128000)            0         \n",
      "_________________________________________________________________\n",
      "dense_53 (Dense)             (None, 250)               32000250  \n",
      "_________________________________________________________________\n",
      "dense_54 (Dense)             (None, 250)               62750     \n",
      "_________________________________________________________________\n",
      "dense_55 (Dense)             (None, 250)               62750     \n",
      "_________________________________________________________________\n",
      "dense_56 (Dense)             (None, 1)                 251       \n",
      "=================================================================\n",
      "Total params: 33,406,001\n",
      "Trainable params: 33,406,001\n",
      "Non-trainable params: 0\n",
      "_________________________________________________________________\n",
      "None\n",
      " \n",
      "Train on 25000 samples, validate on 25000 samples\n",
      "Epoch 1/2\n",
      " - 142s - loss: 0.4416 - acc: 0.7700 - val_loss: 0.2905 - val_acc: 0.8766\n",
      "Epoch 2/2\n",
      " - 144s - loss: 0.1089 - acc: 0.9618 - val_loss: 0.4003 - val_acc: 0.8500\n"
     ]
    }
   ],
   "source": [
    "# Added hidden layers\n",
    "\n",
    "# Range of hidden dense layers that will be tested\n",
    "num_of_hidden_layers = [1, 2, 3]\n",
    "\n",
    "for num in num_of_hidden_layers:\n",
    "    model_3 = Sequential()\n",
    "    model_3.add(Embedding(top_words, 128, input_length=max_words)) # Embedding layer\n",
    "    model_3.add(Flatten()) # Flatten the Embedded layers output to one dimension\n",
    "    # Adding the required number of hidden dense layers\n",
    "    for i in range(num):\n",
    "        model_3.add(Dense(250, activation='relu')) # Dense hidden layer with a relu activation function\n",
    "    model_3.add(Dense(1, activation='sigmoid')) # Output layer (one neuron) with a sigmoid activation to output values of 0 and 1 as predictions\n",
    "    model_3.compile(loss='binary_crossentropy', optimizer='adam', metrics=['accuracy']) # Logarithmic loss in used\n",
    "    print(f\"Number of dense layers = {num}\")\n",
    "    print(model_3.summary())\n",
    "      \n",
    "    # Training the model\n",
    "    model_3.fit(X_train, y_train, validation_data=(X_test, y_test), epochs=2, batch_size=128, verbose=2)\n",
    "    print(\" \")"
   ]
  },
  {
   "cell_type": "markdown",
   "metadata": {},
   "source": [
    "There are two observations that we can derive from the above output:\n",
    "\n",
    " - The first is that we notice how increasing the number of hidden dense layers does not necessarily lead to an improved model. In fact, on the above dataset we see that the model's accuracy actually decreases as we increase the number of hidden dense layers from 1 to 2 to 3. In addition to decreasing the model accuracy, adding more hidden dense layers also leads to longer runtimes for the models. It does therefore not make sense to have more than 1 hidden dense layer (of size 250) for this particular problem.\n",
    " \n",
    " - The second observation is that the model accuracy on the first epoch is higher than the accuracy on the second epoch. The model's accuracy on the training set improves if we run two epochs, but it reduces on the test set. This is likely an indication of overfitting. This overfitting effect becomes more pronounced as the total number of layers increases.\n",
    " \n",
    "Recommendation - The model structure set out below produced the most accurate results for this problem: \n",
    "\n",
    " - Layers of the model = One embedded layer, one hidden dense layer (size 250, relu activation), one output layer (sigmoid activation) \n",
    " - Embedded layer size = 128"
   ]
  },
  {
   "cell_type": "markdown",
   "metadata": {},
   "source": [
    "# Predict Something\n",
    "\n",
    "We will use the below movie reviews and use our model to predict whether it is positive or negative. From reading the reviews I would label them as follows:\n",
    "\n",
    "Review 1 = Negative (0);\n",
    "Review 2 = Positive (1)"
   ]
  },
  {
   "cell_type": "markdown",
   "metadata": {},
   "source": [
    "Review 1: \n",
    "\n",
    "\"Terrible acting!! Too many changes from original. They took out too many important parts of the original. Showing the strength of Mufasa but also his friendly side (his friendship with Zazu, how he respects and hugs Rafiki, that he taught Simba how to pounce). Even the opening scene wasn’t the same. Why would you alter that? The huge rising sun in tune with the music that gives almost everyone goosebumps. The new one you see trees with a slightly lit up morning sky and then a small sun appears off to the side that isn’t in sync with the music. Mufasas personality doesn’t sound the same even though it’s still James Earl Jones’ voice. It’s different somehow. The hyenas are not the same. They don’t make jokes and laugh at themselves like “make mine a cub sandwich” then laugh hysterically at their own jokes. They eliminated Ed, the one who doesn’t speak, just laughs. Timon isn’t flamboyant or half as funny as the original. The hula scene in the original was fast paced and funny to distract the hyenas. The new one he slowly sings “Be our Guest”?? No action and not as fun. In fact, ALL of the new characters (including Beyoncé) sound like they are just reading from a script and it’s really mundane and forced. None of them are in character and flow like the original. There’s no sass or wit. The music is boring. It’s a huge disappointment. Rafiki catches Simbas hair and knows immediately it’s him. In the original, he knows the scent, but it takes him a minute to figure it out and when he does, he’s ecstatic. Not in the remake. There is no image of Mufasa in the clouds to guide Simba to remember who he is. Rafiki doesn’t give him a lesson about how the past can hurt with his stick. Simba doesn’t hug Rafiki like his father did which is also symbolic to how Simba is like his father. I don’t understand why Disney would eliminate these bonds and characters that we all love and change it to make what is a visually stunning movie into something I will never want to see again.\"\n",
    "\n",
    "\n",
    "Review 2: \n",
    "\n",
    "To an unabashed degree, Hobbs & Shaw is a movie about wheelhouse capitalization – both in front of and behind the camera. Nobody here is exactly breaking new ground, but everyone is doing what they do best, and it’s really the film’s greatest strength. It’s always fun when you can feel a palpable confidence from a blockbuster, and this one has it flowing. Not every stylistic choice fully works (especially those that get significant set ups without big payoffs), and logic isn’t consistently the narrative’s greatest concern, but the majority of its big swings connect."
   ]
  },
  {
   "cell_type": "code",
   "execution_count": 63,
   "metadata": {},
   "outputs": [],
   "source": [
    "# Reviews to predict\n",
    "predict_this_1 = \"Terrible acting!! Too many changes from original. They took out too many important parts of the original. Showing the strength of Mufasa but also his friendly side (his friendship with Zazu, how he respects and hugs Rafiki, that he taught Simba how to pounce). Even the opening scene wasn’t the same. Why would you alter that? The huge rising sun in tune with the music that gives almost everyone goosebumps. The new one you see trees with a slightly lit up morning sky and then a small sun appears off to the side that isn’t in sync with the music. Mufasas personality doesn’t sound the same even though it’s still James Earl Jones’ voice. It’s different somehow. The hyenas are not the same. They don’t make jokes and laugh at themselves like “make mine a cub sandwich” then laugh hysterically at their own jokes. They eliminated Ed, the one who doesn’t speak, just laughs. Timon isn’t flamboyant or half as funny as the original. The hula scene in the original was fast paced and funny to distract the hyenas. The new one he slowly sings “Be our Guest”?? No action and not as fun. In fact, ALL of the new characters (including Beyoncé) sound like they are just reading from a script and it’s really mundane and forced. None of them are in character and flow like the original. There’s no sass or wit. The music is boring. It’s a huge disappointment. Rafiki catches Simbas hair and knows immediately it’s him. In the original, he knows the scent, but it takes him a minute to figure it out and when he does, he’s ecstatic. Not in the remake. There is no image of Mufasa in the clouds to guide Simba to remember who he is. Rafiki doesn’t give him a lesson about how the past can hurt with his stick. Simba doesn’t hug Rafiki like his father did which is also symbolic to how Simba is like his father. I don’t understand why Disney would eliminate these bonds and characters that we all love and change it to make what is a visually stunning movie into something I will never want to see again.\"\n",
    "predict_this_2 = \"To an unabashed degree, Hobbs & Shaw is a movie about wheelhouse capitalization – both in front of and behind the camera. Nobody here is exactly breaking new ground, but everyone is doing what they do best, and it’s really the film’s greatest strength. It’s always fun when you can feel a palpable confidence from a blockbuster, and this one has it flowing. Not every stylistic choice fully works (especially those that get significant set ups without big payoffs), and logic isn’t consistently the narrative’s greatest concern, but the majority of its big swings connect.\"\n",
    "\n",
    "# Removing punctuation from the reviews\n",
    "import string\n",
    "predict_this_1 = predict_this_1.translate(str.maketrans('', '', string.punctuation))\n",
    "predict_this_2 = predict_this_2.translate(str.maketrans('', '', string.punctuation))\n",
    "\n",
    "# Splitting the new strings (without punctuation) into lists of individual words\n",
    "words_1 = predict_this_1.split()\n",
    "words_2 = predict_this_2.split()\n",
    "\n",
    "# Creating lists containing the IMDB index values for the words in each of the new reviews. \n",
    "# We also only consider words in the top 5000 as was done for the earlier models.\n",
    "x_test_1 = []\n",
    "for w in words_1:\n",
    "    if w in word2id and word2id[w]<=5000:\n",
    "        x_test_1.append(word2id[w])\n",
    "\n",
    "x_test_2 = []\n",
    "for w in words_2:\n",
    "    if w in word2id and word2id[w]<=5000:\n",
    "        x_test_2.append(word2id[w])\n",
    "\n",
    "# Creating a single array with both of the reviews' lists. Each entry in the array represents the indexed values for a single review\n",
    "x_test = np.array([x_test_1, x_test_2])\n",
    "\n",
    "# Padding each of the reviews to a size of 500\n",
    "x_test = sequence.pad_sequences(x_test, maxlen=max_words) "
   ]
  },
  {
   "cell_type": "code",
   "execution_count": 24,
   "metadata": {},
   "outputs": [
    {
     "name": "stdout",
     "output_type": "stream",
     "text": [
      "WARNING:tensorflow:From /anaconda3/lib/python3.7/site-packages/tensorflow/python/framework/op_def_library.py:263: colocate_with (from tensorflow.python.framework.ops) is deprecated and will be removed in a future version.\n",
      "Instructions for updating:\n",
      "Colocations handled automatically by placer.\n",
      "_________________________________________________________________\n",
      "Layer (type)                 Output Shape              Param #   \n",
      "=================================================================\n",
      "embedding_1 (Embedding)      (None, 500, 128)          640000    \n",
      "_________________________________________________________________\n",
      "flatten_1 (Flatten)          (None, 64000)             0         \n",
      "_________________________________________________________________\n",
      "dense_1 (Dense)              (None, 250)               16000250  \n",
      "_________________________________________________________________\n",
      "dense_2 (Dense)              (None, 1)                 251       \n",
      "=================================================================\n",
      "Total params: 16,640,501\n",
      "Trainable params: 16,640,501\n",
      "Non-trainable params: 0\n",
      "_________________________________________________________________\n",
      "None\n",
      "WARNING:tensorflow:From /anaconda3/lib/python3.7/site-packages/tensorflow/python/ops/math_ops.py:3066: to_int32 (from tensorflow.python.ops.math_ops) is deprecated and will be removed in a future version.\n",
      "Instructions for updating:\n",
      "Use tf.cast instead.\n",
      "Train on 25000 samples, validate on 25000 samples\n",
      "Epoch 1/2\n",
      " - 65s - loss: 0.5057 - acc: 0.7402 - val_loss: 0.3054 - val_acc: 0.8690\n",
      "Epoch 2/2\n",
      " - 66s - loss: 0.1686 - acc: 0.9368 - val_loss: 0.3016 - val_acc: 0.8736\n"
     ]
    },
    {
     "data": {
      "text/plain": [
       "<keras.callbacks.History at 0xb28050b00>"
      ]
     },
     "execution_count": 24,
     "metadata": {},
     "output_type": "execute_result"
    }
   ],
   "source": [
    "# Creating and training the final model that will be used to predict the new review\n",
    "# Notice that we use the above recommended model with an embedded layer size of 128 and only one hidden dense layer\n",
    "\n",
    "model_final = Sequential()\n",
    "model_final.add(Embedding(top_words, 128, input_length=max_words)) # Embedding layer\n",
    "model_final.add(Flatten()) # Flatten the Embedded layers output to one dimension\n",
    "model_final.add(Dense(250, activation='relu')) # Dense hidden layer with a relu activation function\n",
    "model_final.add(Dense(1, activation='sigmoid')) # Output layer (one neuron) with a sigmoid activation to output values of 0 and 1 as predictions\n",
    "model_final.compile(loss='binary_crossentropy', optimizer='adam', metrics=['accuracy']) # Logarithmic loss in used\n",
    "print(model_final.summary())\n",
    "\n",
    "# Training the model\n",
    "model_final.fit(X_train, y_train, validation_data=(X_test, y_test), epochs=2, batch_size=128, verbose=2)"
   ]
  },
  {
   "cell_type": "code",
   "execution_count": 74,
   "metadata": {},
   "outputs": [
    {
     "data": {
      "text/plain": [
       "array([[0],\n",
       "       [0]], dtype=int32)"
      ]
     },
     "execution_count": 74,
     "metadata": {},
     "output_type": "execute_result"
    }
   ],
   "source": [
    "# Predicting the sentiments of each of the two movie reviews\n",
    "model_final.predict_classes(x_test)"
   ]
  },
  {
   "cell_type": "markdown",
   "metadata": {},
   "source": [
    "From the above output we can see that both reviews are predicted to be 'Negative' by the last model we built. This can be seen by the 0's in the output array above.\n",
    "\n",
    "This result is what I expected for the first review. I am however surprised to see that the second review is labelled as 'Negative' as well. This might simply be a matter of personal opinion. Others might also feel that review 2 is not entirely 'Positive'. It could also be simply because that's the way the model was trained, i.e. similar types of reviews in the IMDB dataset (on which the model was trained) were labelled as 'Negative', which would cause the model to see similar reviews as 'Negative'. \n",
    "\n",
    "It's therefore difficult to say whether or not the model is correct in the case of review 2. We would however be confident in saying that the model correctly predicted review 1's sentiment."
   ]
  },
  {
   "cell_type": "code",
   "execution_count": null,
   "metadata": {},
   "outputs": [],
   "source": []
  }
 ],
 "metadata": {
  "kernelspec": {
   "display_name": "Python 3",
   "language": "python",
   "name": "python3"
  },
  "language_info": {
   "codemirror_mode": {
    "name": "ipython",
    "version": 3
   },
   "file_extension": ".py",
   "mimetype": "text/x-python",
   "name": "python",
   "nbconvert_exporter": "python",
   "pygments_lexer": "ipython3",
   "version": "3.7.4"
  }
 },
 "nbformat": 4,
 "nbformat_minor": 2
}
